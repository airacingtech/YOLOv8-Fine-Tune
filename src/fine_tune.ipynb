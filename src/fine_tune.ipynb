{
 "cells": [
  {
   "cell_type": "code",
   "execution_count": 1,
   "metadata": {},
   "outputs": [],
   "source": [
    "import ultralytics\n",
    "from ultralytics import YOLO\n",
    "import os\n",
    "import cv2\n",
    "import time\n",
    "\n",
    "# Set CUDA Environment Variables\n",
    "# os.environ[\"CUDA_DEVICE_ORDER\"]=\"PCI_BUS_ID\"\n",
    "os.environ[\"CUDA_VISIBLE_DEVICES\"]=\"0\"\n",
    "# os.environ[\"CUDA_LAUNCH_BLOCKING\"]=\"1\"\n",
    "# os.environ[\"TF_FORCE_GPU_ALLOW_GROWTH\"]=\"true\"\n",
    "# o\n",
    "\n",
    "CUDA_VERSION = '12.1'\n",
    "os.environ['PATH'] = '/usr/local/cuda-' + CUDA_VERSION + '/bin:' + os.environ.get('PATH', '')\n",
    "os.environ['LD_LIBRARY_PATH'] = '/usr/local/cuda-' + CUDA_VERSION + '/lib64:' + os.environ.get('LD_LIBRARY_PATH', '')\n",
    "\n",
    "\n",
    "# Change these parameters to fit your needs\n",
    "EPOCHS = 1\n",
    "IMG_SIZE = 640\n",
    "\n",
    "# Whether or not to use ray tune for hyperparameter sweep / tuning\n",
    "USE_RAY_TUNE = False\n",
    "# Number of iterations for hyperparameter sweep / tuning\n",
    "TUNE_ITERS = 1\n",
    "\n",
    "CURR_DIR = os.getcwd()\n",
    "WORKSPACE_DIR = os.path.dirname(CURR_DIR)\n",
    "DATASETS_DIR = WORKSPACE_DIR + '/datasets/'\n",
    "\n",
    "# Flag to resume training from a previous checkpoint (false if training from scratch)\n",
    "RESUME_TRAINING = False\n",
    "\n",
    "# Path to trained model weights\n",
    "MODELS_PATH = WORKSPACE_DIR + 'models/'\n",
    "MODEL_PATH = MODELS_PATH + 'yolov8_fine_tune.pt'\n",
    "\n",
    "# This line prevents the Kernel from crashing when running model.train() which calls a plotting function\n",
    "os.environ[\"KMP_DUPLICATE_LIB_OK\"]=\"TRUE\""
   ]
  },
  {
   "cell_type": "markdown",
   "metadata": {},
   "source": [
    "# Check System Information"
   ]
  },
  {
   "cell_type": "code",
   "execution_count": null,
   "metadata": {},
   "outputs": [],
   "source": [
    "ultralytics.utils.checks.collect_system_info()"
   ]
  },
  {
   "cell_type": "markdown",
   "metadata": {},
   "source": [
    "# Train Model"
   ]
  },
  {
   "cell_type": "code",
   "execution_count": null,
   "metadata": {},
   "outputs": [],
   "source": [
    "# Load yolov8 nano segmentation model\n",
    "if RESUME_TRAINING:\n",
    "    # TODO: Change this to the path of the model you want to resume training from\n",
    "    model = YOLO('yolov8n-seg.pt', resume=True)\n",
    "# Load yolov8 nano segmentation model\n",
    "else:\n",
    "    model = YOLO('yolov8n-seg.pt')\n",
    "\n",
    "# Find dataset images\n",
    "CURR_DATASET = DATASETS_DIR + '/YOLOv8_finetune.v1i.yolov8-car-label' #TODO: Change this to the dataset you want to train on\n",
    "TRAIN_DATA = CURR_DATASET + '/data.yaml'\n",
    "TEST_PATH = CURR_DATASET + '/test/images/'\n",
    "SAVE_PATH = CURR_DATASET + '/test/annotation_results'\n",
    "# Make sure the save path exists\n",
    "if not os.path.exists(SAVE_PATH):\n",
    "    os.makedirs(SAVE_PATH)\n",
    "\n",
    "start_time = time.time()\n",
    "# By default, the model trains on a single GPU\n",
    "model.train(data=TRAIN_DATA, epochs=EPOCHS, imgsz=IMG_SIZE)\n",
    "end_time = time.time()\n",
    "training_time = end_time - start_time\n",
    "print(\"Time to train: \", training_time)\n"
   ]
  },
  {
   "cell_type": "markdown",
   "metadata": {},
   "source": [
    "# Hyperparameter Tuning"
   ]
  },
  {
   "cell_type": "code",
   "execution_count": null,
   "metadata": {},
   "outputs": [],
   "source": [
    "# Runs a hyperparameter sweep and selects the best hyperparameters\n",
    "model.tune(use_ray=USE_RAY_TUNE, iterations=TUNE_ITERS)"
   ]
  },
  {
   "cell_type": "markdown",
   "metadata": {},
   "source": [
    "# Test Model"
   ]
  },
  {
   "cell_type": "code",
   "execution_count": null,
   "metadata": {},
   "outputs": [],
   "source": [
    "# Inference fine-tuned model on test images and save results\n",
    "for file in os.listdir(TEST_PATH):\n",
    "    file_path = os.path.join(TEST_PATH, file)\n",
    "    output = model.predict(file_path)\n",
    "    save_path = os.path.join(SAVE_PATH, file)\n",
    "    cv2.imwrite(save_path, output[0].plot())\n",
    "\n",
    "print(\"Inference on test set complete. Results saved to: \", SAVE_PATH)"
   ]
  },
  {
   "cell_type": "markdown",
   "metadata": {},
   "source": [
    "# Save Weights and Export Model"
   ]
  },
  {
   "cell_type": "code",
   "execution_count": null,
   "metadata": {},
   "outputs": [],
   "source": [
    "model.save(MODEL_PATH) # Save the model as a .pt file\n",
    "model.export(save_dir=MODELS_PATH, format='onnx', half=True)"
   ]
  },
  {
   "cell_type": "markdown",
   "metadata": {},
   "source": []
  }
 ],
 "metadata": {
  "kernelspec": {
   "display_name": "Python 3",
   "language": "python",
   "name": "python3"
  },
  "language_info": {
   "codemirror_mode": {
    "name": "ipython",
    "version": 3
   },
   "file_extension": ".py",
   "mimetype": "text/x-python",
   "name": "python",
   "nbconvert_exporter": "python",
   "pygments_lexer": "ipython3",
   "version": "3.11.8"
  },
  "orig_nbformat": 4
 },
 "nbformat": 4,
 "nbformat_minor": 2
}
