{
 "cells": [
  {
   "cell_type": "code",
   "execution_count": null,
   "metadata": {},
   "outputs": [],
   "source": [
    "import ultralytics\n",
    "from ultralytics import YOLO\n",
    "import os\n",
    "import cv2\n",
    "import time\n",
    "\n",
    "# Set CUDA Environment Variables\n",
    "# os.environ[\"CUDA_DEVICE_ORDER\"]=\"PCI_BUS_ID\"\n",
    "os.environ[\"CUDA_VISIBLE_DEVICES\"]=\"0\"\n",
    "# os.environ[\"CUDA_LAUNCH_BLOCKING\"]=\"1\"\n",
    "# os.environ[\"TF_FORCE_GPU_ALLOW_GROWTH\"]=\"true\"\n",
    "# o\n",
    "\n",
    "CUDA_VERSION = '12.1'\n",
    "os.environ['PATH'] = '/usr/local/cuda-' + CUDA_VERSION + '/bin:' + os.environ.get('PATH', '')\n",
    "os.environ['LD_LIBRARY_PATH'] = '/usr/local/cuda-' + CUDA_VERSION + '/lib64:' + os.environ.get('LD_LIBRARY_PATH', '')\n",
    "\n",
    "\n",
    "# Change these parameters to fit your needs\n",
    "EPOCHS = 25\n",
    "IMG_SIZE = 512\n",
    "BATCH_SIZE = 16\n",
    "NAME = \"NEW_ONECLASS_NEWLABEL_real_epoch\" + str(EPOCHS) + \"_img\" + str(IMG_SIZE) + \"_batch\" + str(BATCH_SIZE)\n",
    "\n",
    "# Whether or not to use ray tune for hyperparameter sweep / tuning\n",
    "USE_RAY_TUNE = False\n",
    "# Number of iterations for hyperparameter sweep / tuning\n",
    "TUNE_ITERS = 100\n",
    "\n",
    "CURR_DIR = os.getcwd()\n",
    "WORKSPACE_DIR = os.path.dirname(CURR_DIR)\n",
    "DATASETS_DIR = \"../data/data_\" + NAME + \"/\"\n",
    "\n",
    "# Flag to resume training from a previous checkpoint (false if training from scratch)\n",
    "RESUME_TRAINING = False\n",
    "\n",
    "# Path to trained model weights\n",
    "MODELS_PATH = WORKSPACE_DIR + 'models/'\n",
    "MODEL_PATH = MODELS_PATH + 'yolov8_fine_tune.pt'\n",
    "\n",
    "# This line prevents the Kernel from crashing when running model.train() which calls a plotting function\n",
    "os.environ[\"KMP_DUPLICATE_LIB_OK\"]=\"TRUE\""
   ]
  },
  {
   "cell_type": "markdown",
   "metadata": {},
   "source": [
    "# Check System Information"
   ]
  },
  {
   "cell_type": "code",
   "execution_count": null,
   "metadata": {},
   "outputs": [],
   "source": [
    "ultralytics.utils.checks.collect_system_info()"
   ]
  },
  {
   "cell_type": "markdown",
   "metadata": {},
   "source": [
    "# Create Training/Validation/Test Folders"
   ]
  },
  {
   "cell_type": "code",
   "execution_count": null,
   "metadata": {},
   "outputs": [],
   "source": [
    "import random\n",
    "import shutil\n",
    "\n",
    "# create directories to extract data from\n",
    "train_dir = '../inputs/train/sim2real_and_real/'\n",
    "test_dir = '../inputs/test/real_march_data/'\n",
    "print(\"Extracting train/validation images from:\", train_dir)\n",
    "print(\"Extracting test images from:\", test_dir)\n",
    "print()\n",
    "\n",
    "\n",
    "# creating training/validation data directories\n",
    "train_images_labels = []\n",
    "for train_folder in os.listdir(train_dir):\n",
    "    full_path = os.path.join(train_dir, train_folder)\n",
    "    for img_file in os.listdir(full_path + \"/images/\"):\n",
    "        train_images_labels.append([full_path + \"/images/\" + img_file, full_path + \"/labels/\" + img_file[:-4] + \".txt\", train_folder])\n",
    "\n",
    "# sort images by filename\n",
    "train_images_labels = sorted(train_images_labels, key = lambda x: x[0])\n",
    "\n",
    "# shuffle images deterministically with seed\n",
    "random.seed(42)\n",
    "random.shuffle(train_images_labels)\n",
    "\n",
    "# split 80% training, 20% validation\n",
    "training_inputs = train_images_labels[len(train_images_labels) // 5:]\n",
    "valid_inputs = train_images_labels[:len(train_images_labels) // 5]\n",
    "\n",
    "# create new directories, in format that YOLOv8 needs\n",
    "if not os.path.exists(\"../data/\"):\n",
    "    os.mkdir(\"../data/\")\n",
    "if os.path.exists(DATASETS_DIR):\n",
    "    print(\"Deleting and recreating\", DATASETS_DIR, \"folder...\")\n",
    "    shutil.rmtree(DATASETS_DIR)\n",
    "os.mkdir(DATASETS_DIR)\n",
    "os.mkdir(DATASETS_DIR + \"train/\")\n",
    "os.mkdir(DATASETS_DIR + \"train/images/\")\n",
    "os.mkdir(DATASETS_DIR + \"train/labels/\")\n",
    "os.mkdir(DATASETS_DIR + \"val/\")\n",
    "os.mkdir(DATASETS_DIR + \"val/images/\")\n",
    "os.mkdir(DATASETS_DIR + \"val/labels/\")\n",
    "os.mkdir(DATASETS_DIR + \"test/\")\n",
    "os.mkdir(DATASETS_DIR + \"test/images/\")\n",
    "os.mkdir(DATASETS_DIR + \"test/labels/\")\n",
    "\n",
    "# copy files over into train/validation directories\n",
    "for img, label, train_folder in training_inputs:\n",
    "    shutil.copy(img, DATASETS_DIR + \"train/images/\" + train_folder + \"_\" + img.split(\"/\")[-1])\n",
    "    shutil.copy(label, DATASETS_DIR + \"train/labels/\" + train_folder + \"_\" + label.split(\"/\")[-1])\n",
    "for img, label, valid_folder in valid_inputs:\n",
    "    shutil.copy(img, DATASETS_DIR + \"val/images/\" + valid_folder + \"_\" + img.split(\"/\")[-1])\n",
    "    shutil.copy(label, DATASETS_DIR + \"val/labels/\" + valid_folder + \"_\" + label.split(\"/\")[-1])\n",
    "\n",
    "# create test data directories\n",
    "test_images_labels = []\n",
    "for test_folder in os.listdir(test_dir):\n",
    "    full_path = os.path.join(test_dir, test_folder)\n",
    "    for img_file in os.listdir(full_path + \"/images/\"):\n",
    "        test_images_labels.append([full_path + \"/images/\" + img_file, full_path + \"/labels/\" + img_file[:-4] + \".txt\", test_folder])\n",
    "\n",
    "# sort images by filename\n",
    "test_inputs = sorted(test_images_labels, key = lambda x: x[0])\n",
    "\n",
    "# copy files over into test directories\n",
    "for img, label, test_folder in test_images_labels:\n",
    "    shutil.copy(img, DATASETS_DIR + \"test/images/\" + test_folder + \"_\" + img.split(\"/\")[-1])\n",
    "    shutil.copy(label, DATASETS_DIR + \"test/labels/\" + test_folder + \"_\" + label.split(\"/\")[-1])\n",
    "\n",
    "# copy over data.yaml file from root directory\n",
    "shutil.copy(\"../data.yaml\", DATASETS_DIR)\n",
    "print(\"Copied over 'data.yaml' file\\n\")\n",
    "\n",
    "print(\"Finished creating directories for YOLOv8 training pipeline\")\n",
    "\n",
    "print(\"Training on\", len(training_inputs), \"images\")\n",
    "print(\"Validating on\", len(valid_inputs), \"images\")\n",
    "print(\"Testing on\", len(test_inputs), \"images\")"
   ]
  },
  {
   "cell_type": "markdown",
   "metadata": {},
   "source": [
    "# Train Model"
   ]
  },
  {
   "cell_type": "code",
   "execution_count": null,
   "metadata": {},
   "outputs": [],
   "source": [
    "# Load yolov8 nano segmentation model\n",
    "if RESUME_TRAINING:\n",
    "    # TODO: Change this to the path of the model you want to resume training from\n",
    "    model = YOLO('yolov8n-seg.pt', resume=False)\n",
    "# Load yolov8 nano segmentation model\n",
    "else:\n",
    "    model = YOLO('yolov8n-seg.pt')\n",
    "\n",
    "# Find dataset images\n",
    "CURR_DATASET = DATASETS_DIR # Change this to the dataset you want to train on\n",
    "TRAIN_DATA = CURR_DATASET + 'data.yaml'\n",
    "TEST_PATH = CURR_DATASET + 'test/images/'\n",
    "SAVE_PATH = CURR_DATASET + 'test/annotation_results'\n",
    "# Make sure the save path exists\n",
    "if not os.path.exists(SAVE_PATH):\n",
    "    os.makedirs(SAVE_PATH)\n",
    "\n",
    "start_time = time.time()\n",
    "# By default, the model trains on a single GPU\n",
    "model.train(data=TRAIN_DATA, epochs=EPOCHS, imgsz=IMG_SIZE, name=NAME, batch=BATCH_SIZE)\n",
    "end_time = time.time()\n",
    "training_time = end_time - start_time\n",
    "print(\"Time to train: \", training_time)"
   ]
  },
  {
   "cell_type": "markdown",
   "metadata": {},
   "source": [
    "# Hyperparameter Tuning"
   ]
  },
  {
   "cell_type": "code",
   "execution_count": null,
   "metadata": {},
   "outputs": [],
   "source": [
    "# # # # # Runs a hyperparameter sweep and selects the best hyperparameters\n",
    "# model.tune(use_ray=USE_RAY_TUNE, iterations=TUNE_ITERS)\n",
    "# # model.tune(epochs=10, iterations=50, optimizer='AdamW', plots=True, save=True, val=True)"
   ]
  },
  {
   "cell_type": "markdown",
   "metadata": {},
   "source": [
    "# Test Model"
   ]
  },
  {
   "cell_type": "code",
   "execution_count": null,
   "metadata": {},
   "outputs": [],
   "source": [
    "# load up the best model from training\n",
    "model = YOLO(\"runs/segment/\" + NAME + \"/weights/best.pt\")"
   ]
  },
  {
   "cell_type": "code",
   "execution_count": null,
   "metadata": {},
   "outputs": [],
   "source": [
    "import tqdm\n",
    "def images_to_video(image_filenames, output_file, fps=24):\n",
    "\n",
    "    # Sort the image files to maintain order\n",
    "    # for filename in image_filenames:\n",
    "    #     print(filename, int(filename.split(\"/\")[-1].split(\"_\")[1][:-4]), \"\\n\")\n",
    "    image_files = sorted(image_filenames, key=lambda filename: int(filename.split(\"/\")[-1].split(\"_\")[-1][:-4]))\n",
    "\n",
    "    # Get the first image to get dimensions\n",
    "    first_image = cv2.imread(image_files[0])\n",
    "    height, width, layers = first_image.shape\n",
    "\n",
    "    # Define the codec and create VideoWriter object\n",
    "    fourcc = cv2.VideoWriter_fourcc(*'mp4v')  # Use 'XVID' for AVI format\n",
    "    video = cv2.VideoWriter(output_file, fourcc, fps, (width, height))\n",
    "\n",
    "    # Iterate through each image and write to the video\n",
    "    for image_file in tqdm.tqdm(image_files):\n",
    "        image_path = image_file\n",
    "        frame = cv2.imread(image_path)\n",
    "        video.write(frame)\n",
    "\n",
    "    # Release the VideoWriter object\n",
    "    video.release()\n",
    "\n",
    "    print(f\"Video saved to: {output_file}\")\n",
    "\n",
    "image_files = []\n",
    "# Inference fine-tuned model on test images and save results\n",
    "for file in os.listdir(TEST_PATH):\n",
    "    file_path = os.path.join(TEST_PATH, file)\n",
    "    output = model.predict(file_path)\n",
    "    save_path = os.path.join(SAVE_PATH, file)\n",
    "    image_files.append(save_path)\n",
    "    cv2.imwrite(save_path, output[0].plot())\n",
    "\n",
    "print(\"Inference on test set complete. Results saved to: \", SAVE_PATH)\n",
    "\n",
    "# Convert the images to a video\n",
    "images_to_video(image_files, os.path.join(SAVE_PATH, \"0_video.mp4\"))\n"
   ]
  },
  {
   "cell_type": "markdown",
   "metadata": {},
   "source": [
    "# Save Weights and Export Model"
   ]
  },
  {
   "cell_type": "markdown",
   "metadata": {},
   "source": []
  },
  {
   "cell_type": "code",
   "execution_count": null,
   "metadata": {},
   "outputs": [],
   "source": [
    "# model.save(MODEL_PATH) # Save the model as a .pt file\n",
    "# model.export(save_dir=MODELS_PATH, format='onnx', half=True)"
   ]
  },
  {
   "cell_type": "markdown",
   "metadata": {},
   "source": [
    "# Generate Test Metrics"
   ]
  },
  {
   "cell_type": "code",
   "execution_count": null,
   "metadata": {},
   "outputs": [],
   "source": [
    "# # load all three models\n",
    "# model1 = YOLO(\"/home/ashwatc/Desktop/YOLOv8-Fine-Tune/src/runs/segment/FINAL_FOLDER_RESULTS/1_real_epoch25_img512_batch16/weights/best.pt\")\n",
    "# model2 = YOLO(\"/home/ashwatc/Desktop/YOLOv8-Fine-Tune/src/runs/segment/FINAL_FOLDER_RESULTS/2_sim_epoch25_img512_batch16/weights/best.pt\")\n",
    "# model3 = YOLO(\"/home/ashwatc/Desktop/YOLOv8-Fine-Tune/src/runs/segment/FINAL_FOLDER_RESULTS/3_sim_R_epoch25_img512_batch16/weights/best.pt\")\n",
    "# model4 = YOLO(\"/home/ashwatc/Desktop/YOLOv8-Fine-Tune/src/runs/segment/FINAL_FOLDER_RESULTS/4_sim2real_epoch25_img512_batch16/weights/best.pt\")\n",
    "# model5 = YOLO(\"/home/ashwatc/Desktop/YOLOv8-Fine-Tune/src/runs/segment/FINAL_FOLDER_RESULTS/5_sim2real_R_epoch25_img512_batch16/weights/best.pt\")\n",
    "# models = [model1, model2, model3, model4, model5]\n",
    "\n",
    "# # load yaml for data\n",
    "# data_path = \"/home/ashwatc/Desktop/YOLOv8-Fine-Tune/data/MISC/data_for_generating_test_benchmark/data.yaml\"\n"
   ]
  },
  {
   "cell_type": "code",
   "execution_count": null,
   "metadata": {},
   "outputs": [],
   "source": [
    "# from ultralytics import YOLO\n",
    "\n",
    "# val_results_list = []\n",
    "\n",
    "# # Load a model\n",
    "# for model in models:\n",
    "#     # Run evaluation\n",
    "#     validation_results = model.val(data=data_path,\n",
    "#                                 imgsz=512,\n",
    "#                                 batch=16,\n",
    "#                                 # conf=0.25,\n",
    "#                                 # iou=0.5,\n",
    "#                                 # device='0',\n",
    "#                                 plots=True)\n",
    "#     val_results_list.append(validation_results)"
   ]
  },
  {
   "cell_type": "code",
   "execution_count": null,
   "metadata": {},
   "outputs": [],
   "source": []
  },
  {
   "cell_type": "markdown",
   "metadata": {},
   "source": []
  }
 ],
 "metadata": {
  "kernelspec": {
   "display_name": "Python 3",
   "language": "python",
   "name": "python3"
  },
  "language_info": {
   "codemirror_mode": {
    "name": "ipython",
    "version": 3
   },
   "file_extension": ".py",
   "mimetype": "text/x-python",
   "name": "python",
   "nbconvert_exporter": "python",
   "pygments_lexer": "ipython3",
   "version": "3.11.8"
  },
  "orig_nbformat": 4
 },
 "nbformat": 4,
 "nbformat_minor": 2
}
